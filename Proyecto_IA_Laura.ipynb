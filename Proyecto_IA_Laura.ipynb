{
  "cells": [
    {
      "cell_type": "markdown",
      "source": [
        "# **Proyecto de Inteligencia Artifical**\n",
        "\n",
        "---\n",
        "Laura Sofía Gómez Lizarazo\\\n",
        "Dataset: https://www.kaggle.com/datasets/fedesoriano/stroke-prediction-dataset\n",
        "\n"
      ],
      "metadata": {
        "id": "Uj0noPR0VA2G"
      }
    },
    {
      "cell_type": "code",
      "execution_count": 1,
      "metadata": {
        "id": "cUWoDUArfZYq"
      },
      "outputs": [],
      "source": [
        "# Librerias\n",
        "import numpy as np\n",
        "import pandas as pd\n",
        "from sklearn import preprocessing, linear_model\n",
        "from sklearn.model_selection import train_test_split\n",
        "from sklearn.neighbors import KNeighborsClassifier\n",
        "from sklearn.linear_model import LogisticRegression\n",
        "from sklearn.metrics import f1_score, roc_auc_score, matthews_corrcoef\n",
        "from sklearn.svm import SVC\n",
        "from sklearn.model_selection import GridSearchCV\n",
        "from sklearn.preprocessing import StandardScaler\n",
        "from sklearn import decomposition\n",
        "from sklearn.metrics import make_scorer\n",
        "import matplotlib.pyplot as mp\n",
        "import seaborn as sb"
      ]
    },
    {
      "cell_type": "markdown",
      "source": [
        "**Lectura de datos**"
      ],
      "metadata": {
        "id": "54I8psi6WKT9"
      }
    },
    {
      "cell_type": "code",
      "execution_count": 2,
      "metadata": {
        "id": "5LAi8li3fy3C"
      },
      "outputs": [],
      "source": [
        "datos = pd.read_csv('Datos.csv')"
      ]
    },
    {
      "cell_type": "markdown",
      "source": [
        "**Revisión de datos nulos**"
      ],
      "metadata": {
        "id": "gm76dCLBWVZi"
      }
    },
    {
      "cell_type": "code",
      "execution_count": 3,
      "metadata": {
        "id": "0OF86oU4e-yt"
      },
      "outputs": [],
      "source": [
        "datos = datos.drop([\"id\",\"ever_married\",\"work_type\",\"Residence_type\"], axis=1)"
      ]
    },
    {
      "cell_type": "code",
      "execution_count": 4,
      "metadata": {
        "colab": {
          "base_uri": "https://localhost:8080/"
        },
        "id": "oFRFSiTYf72A",
        "outputId": "d158722d-0ff0-40eb-c482-87130b1f771a"
      },
      "outputs": [
        {
          "output_type": "execute_result",
          "data": {
            "text/plain": [
              "gender                 0\n",
              "age                    0\n",
              "hypertension           0\n",
              "heart_disease          0\n",
              "avg_glucose_level      0\n",
              "bmi                  201\n",
              "smoking_status         0\n",
              "stroke                 0\n",
              "dtype: int64"
            ]
          },
          "metadata": {},
          "execution_count": 4
        }
      ],
      "source": [
        "datos.isnull().sum()"
      ]
    },
    {
      "cell_type": "markdown",
      "source": [
        "**Limpieza de datos a partir de la media**"
      ],
      "metadata": {
        "id": "5XkD-XxFWdL-"
      }
    },
    {
      "cell_type": "code",
      "execution_count": 5,
      "metadata": {
        "colab": {
          "base_uri": "https://localhost:8080/"
        },
        "id": "-nxc28shgGom",
        "outputId": "b14f5a7a-7a21-4dbb-9859-e11c58bc6190"
      },
      "outputs": [
        {
          "output_type": "stream",
          "name": "stderr",
          "text": [
            "/usr/local/lib/python3.7/dist-packages/ipykernel_launcher.py:1: FutureWarning: Dropping of nuisance columns in DataFrame reductions (with 'numeric_only=None') is deprecated; in a future version this will raise TypeError.  Select only valid columns before calling the reduction.\n",
            "  \"\"\"Entry point for launching an IPython kernel.\n"
          ]
        }
      ],
      "source": [
        "Datos=datos.fillna(datos.mean())\n"
      ]
    },
    {
      "cell_type": "code",
      "execution_count": 6,
      "metadata": {
        "colab": {
          "base_uri": "https://localhost:8080/"
        },
        "id": "Vrdq6QM-iblE",
        "outputId": "8e7c0b4d-7b10-487e-b63a-1fda4dde53cc"
      },
      "outputs": [
        {
          "output_type": "execute_result",
          "data": {
            "text/plain": [
              "gender               0\n",
              "age                  0\n",
              "hypertension         0\n",
              "heart_disease        0\n",
              "avg_glucose_level    0\n",
              "bmi                  0\n",
              "smoking_status       0\n",
              "stroke               0\n",
              "dtype: int64"
            ]
          },
          "metadata": {},
          "execution_count": 6
        }
      ],
      "source": [
        "# VALIDACIÓN DE LA LIMPIEZA DE DATOS\n",
        "Datos.isnull().sum()"
      ]
    },
    {
      "cell_type": "code",
      "execution_count": 7,
      "metadata": {
        "colab": {
          "base_uri": "https://localhost:8080/"
        },
        "id": "FxhAF22KjBSa",
        "outputId": "b3058e5d-91fb-42ad-b2ad-18c2db8828fd"
      },
      "outputs": [
        {
          "output_type": "stream",
          "name": "stdout",
          "text": [
            "<class 'pandas.core.frame.DataFrame'>\n",
            "RangeIndex: 5110 entries, 0 to 5109\n",
            "Data columns (total 8 columns):\n",
            " #   Column             Non-Null Count  Dtype  \n",
            "---  ------             --------------  -----  \n",
            " 0   gender             5110 non-null   object \n",
            " 1   age                5110 non-null   float64\n",
            " 2   hypertension       5110 non-null   int64  \n",
            " 3   heart_disease      5110 non-null   int64  \n",
            " 4   avg_glucose_level  5110 non-null   float64\n",
            " 5   bmi                5110 non-null   float64\n",
            " 6   smoking_status     5110 non-null   object \n",
            " 7   stroke             5110 non-null   int64  \n",
            "dtypes: float64(3), int64(3), object(2)\n",
            "memory usage: 319.5+ KB\n"
          ]
        }
      ],
      "source": [
        "Datos.info()"
      ]
    },
    {
      "cell_type": "code",
      "execution_count": 8,
      "metadata": {
        "id": "C7YSHk6Kib4F"
      },
      "outputs": [],
      "source": [
        "\n",
        "#CONVERSIÓN DE DATOS STRING A NUMÉRICOS \n",
        "lc = preprocessing.LabelEncoder()\n",
        "columnas=[\"gender\",\"smoking_status\"]\n",
        "for c in columnas:\n",
        "  Datos[c]=lc.fit_transform(Datos[c])"
      ]
    },
    {
      "cell_type": "code",
      "execution_count": 9,
      "metadata": {
        "colab": {
          "base_uri": "https://localhost:8080/"
        },
        "id": "XbTgDTNKkEUO",
        "outputId": "13b14e41-065c-492d-f047-52ff338c6271"
      },
      "outputs": [
        {
          "output_type": "stream",
          "name": "stdout",
          "text": [
            "<class 'pandas.core.frame.DataFrame'>\n",
            "RangeIndex: 5110 entries, 0 to 5109\n",
            "Data columns (total 8 columns):\n",
            " #   Column             Non-Null Count  Dtype  \n",
            "---  ------             --------------  -----  \n",
            " 0   gender             5110 non-null   int64  \n",
            " 1   age                5110 non-null   float64\n",
            " 2   hypertension       5110 non-null   int64  \n",
            " 3   heart_disease      5110 non-null   int64  \n",
            " 4   avg_glucose_level  5110 non-null   float64\n",
            " 5   bmi                5110 non-null   float64\n",
            " 6   smoking_status     5110 non-null   int64  \n",
            " 7   stroke             5110 non-null   int64  \n",
            "dtypes: float64(3), int64(5)\n",
            "memory usage: 319.5 KB\n"
          ]
        }
      ],
      "source": [
        "Datos.info()"
      ]
    },
    {
      "cell_type": "markdown",
      "source": [
        "**CSV con los datos limpios**"
      ],
      "metadata": {
        "id": "CHIVu7O0apJq"
      }
    },
    {
      "cell_type": "code",
      "execution_count": 10,
      "metadata": {
        "id": "T6WeiF47kXUX"
      },
      "outputs": [],
      "source": [
        "# Creación del dataset con los datos limpios\n",
        "Datos.to_csv(\"New_data.csv\",index=False)"
      ]
    },
    {
      "cell_type": "markdown",
      "source": [
        "**X y Y**"
      ],
      "metadata": {
        "id": "JrwIAzXyaw90"
      }
    },
    {
      "cell_type": "code",
      "execution_count": 11,
      "metadata": {
        "id": "cY9SdS75kqyQ"
      },
      "outputs": [],
      "source": [
        "\n",
        "y = Datos.stroke\n",
        "X = Datos.drop([\"stroke\"], axis=1)"
      ]
    },
    {
      "cell_type": "markdown",
      "source": [
        "**Tamaño de datos entrenanmiento y validación**"
      ],
      "metadata": {
        "id": "mlUdU0g-a4HO"
      }
    },
    {
      "cell_type": "code",
      "execution_count": 12,
      "metadata": {
        "id": "FdwdzuwSlQU8"
      },
      "outputs": [],
      "source": [
        "# Método Hold-out\n",
        "train_size = 0.75\n",
        "test_size  = 0.25\n",
        "X_train, X_test, y_train, y_test = train_test_split(X, y, train_size=0.75)"
      ]
    },
    {
      "cell_type": "markdown",
      "source": [
        "**Normalización de los datos**"
      ],
      "metadata": {
        "id": "sKM31PdJbEqA"
      }
    },
    {
      "cell_type": "code",
      "execution_count": 13,
      "metadata": {
        "id": "jjcdLbaklkAz"
      },
      "outputs": [],
      "source": [
        "# Normalizacion\n",
        "scaler = StandardScaler()\n",
        "scaler.fit(X_train)\n",
        "X_train = scaler.transform(X_train)\n",
        "X_test = scaler.transform(X_test)"
      ]
    },
    {
      "cell_type": "markdown",
      "metadata": {
        "id": "ygoRQKmxtRZ9"
      },
      "source": [
        "# **PCA**"
      ]
    },
    {
      "cell_type": "code",
      "execution_count": 14,
      "metadata": {
        "colab": {
          "base_uri": "https://localhost:8080/"
        },
        "id": "58R6PNpOmCPp",
        "outputId": "9a264c22-1a79-42b9-9b50-0c56d64d4b03"
      },
      "outputs": [
        {
          "output_type": "stream",
          "name": "stdout",
          "text": [
            "Pesos en PCA: [0.27329092 0.16412965 0.1280735  0.12783192 0.11744957 0.10674401\n",
            " 0.08248043]\n",
            "Suma total de los pesos PCA 1.0\n"
          ]
        }
      ],
      "source": [
        "PCA = decomposition.PCA(n_components=7)\n",
        "PCA.fit(X_train)\n",
        "X_train = PCA.transform(X_train)\n",
        "\n",
        "print(\"Pesos en PCA:\",PCA.explained_variance_ratio_)\n",
        "print(\"Suma total de los pesos PCA\",sum(PCA.explained_variance_ratio_))"
      ]
    },
    {
      "cell_type": "code",
      "source": [
        "dataplot = sb.heatmap(Datos.corr(), cmap=\"YlGnBu\", annot=True)"
      ],
      "metadata": {
        "colab": {
          "base_uri": "https://localhost:8080/",
          "height": 350
        },
        "id": "W64xGocy5HvS",
        "outputId": "e0c1571e-6e8a-4a85-a294-a7c9d2959219"
      },
      "execution_count": 15,
      "outputs": [
        {
          "output_type": "display_data",
          "data": {
            "text/plain": [
              "<Figure size 432x288 with 2 Axes>"
            ],
            "image/png": "[encoded data removed]"
          },
          "metadata": {
            "needs_background": "light"
          }
        }
      ]
    },
    {
      "cell_type": "code",
      "execution_count": 16,
      "metadata": {
        "colab": {
          "base_uri": "https://localhost:8080/"
        },
        "id": "KMslwh7VpC6-",
        "outputId": "b899a2b7-cf85-46aa-db38-b78ac966fe92"
      },
      "outputs": [
        {
          "output_type": "execute_result",
          "data": {
            "text/plain": [
              "GridSearchCV(estimator=SVC(),\n",
              "             param_grid=[{'kernel': ['linear', 'poly', 'rbf']}], refit='AUC',\n",
              "             return_train_score=True,\n",
              "             scoring={'AUC': 'roc_auc', 'f1': make_scorer(f1_score)})"
            ]
          },
          "metadata": {},
          "execution_count": 16
        }
      ],
      "source": [
        "\n",
        "pg=[{\"kernel\":[\"linear\",\"poly\",\"rbf\"]}]\n",
        "scoring = {\"AUC\": \"roc_auc\", \"f1\": make_scorer(f1_score) }\n",
        "G_S = GridSearchCV(estimator=SVC(),param_grid=pg, scoring = scoring, refit=\"AUC\",return_train_score=True)\n",
        "G_S.fit(X_train,y_train)"
      ]
    },
    {
      "cell_type": "code",
      "execution_count": 17,
      "metadata": {
        "colab": {
          "base_uri": "https://localhost:8080/"
        },
        "id": "MgeyPvPjotNm",
        "outputId": "852ba314-93b9-4530-9167-4410d67c650a"
      },
      "outputs": [
        {
          "output_type": "execute_result",
          "data": {
            "text/plain": [
              "0.7017660567848946"
            ]
          },
          "metadata": {},
          "execution_count": 17
        }
      ],
      "source": [
        "G_S.best_score_"
      ]
    },
    {
      "cell_type": "code",
      "source": [
        "G_S.cv_results_['mean_test_AUC'] "
      ],
      "metadata": {
        "colab": {
          "base_uri": "https://localhost:8080/"
        },
        "id": "IRykowHxnsEZ",
        "outputId": "4329a5c2-e8d2-4249-9900-4e3a044b796a"
      },
      "execution_count": 18,
      "outputs": [
        {
          "output_type": "execute_result",
          "data": {
            "text/plain": [
              "array([0.67083151, 0.70176606, 0.57168814])"
            ]
          },
          "metadata": {},
          "execution_count": 18
        }
      ]
    },
    {
      "cell_type": "code",
      "source": [
        "G_S.cv_results_['mean_test_f1'] "
      ],
      "metadata": {
        "colab": {
          "base_uri": "https://localhost:8080/"
        },
        "id": "0NKV7e3NycjA",
        "outputId": "ece77b78-fabb-46dd-f47f-91cc162a5380"
      },
      "execution_count": 19,
      "outputs": [
        {
          "output_type": "execute_result",
          "data": {
            "text/plain": [
              "array([0., 0., 0.])"
            ]
          },
          "metadata": {},
          "execution_count": 19
        }
      ]
    },
    {
      "cell_type": "markdown",
      "metadata": {
        "id": "zpqNxYgv5nEw"
      },
      "source": [
        "# **SVM**"
      ]
    },
    {
      "cell_type": "code",
      "execution_count": 21,
      "metadata": {
        "colab": {
          "base_uri": "https://localhost:8080/"
        },
        "id": "U8QHaRj75mfg",
        "outputId": "3c3f0a24-adb0-4ad3-f894-6ba6253f1fa5"
      },
      "outputs": [
        {
          "output_type": "execute_result",
          "data": {
            "text/plain": [
              "GridSearchCV(estimator=SVC(),\n",
              "             param_grid=[{'C': [0.1, 5, 10, 25.5, 50, 80, 100],\n",
              "                          'gamma': ['scale', 'auto'],\n",
              "                          'kernel': ['linear', 'poly', 'rbf']}],\n",
              "             refit='AUC',\n",
              "             scoring={'AUC': 'roc_auc', 'f1': make_scorer(f1_score)})"
            ]
          },
          "metadata": {},
          "execution_count": 21
        }
      ],
      "source": [
        "pg =[{'kernel':[\"linear\",\"poly\",\"rbf\"],'gamma':[\"scale\",\"auto\"],'C':[0.1,5,10,25.5,50,80,100]}]\n",
        "scoring = {\"AUC\": \"roc_auc\", \"f1\": make_scorer(f1_score)}\n",
        "G_S_SVM=GridSearchCV(estimator=SVC(),param_grid= pg, scoring=scoring,refit=\"AUC\")\n",
        "G_S_SVM.fit(X_train,y_train)"
      ]
    },
    {
      "cell_type": "code",
      "execution_count": 22,
      "metadata": {
        "id": "BMaw2Nxn6Our",
        "colab": {
          "base_uri": "https://localhost:8080/"
        },
        "outputId": "026b1ab2-6dd2-4d03-d186-69cc1386efc8"
      },
      "outputs": [
        {
          "output_type": "execute_result",
          "data": {
            "text/plain": [
              "{'mean_fit_time': array([2.63170719e-02, 1.72401428e-01, 8.00020695e-02, 2.38586903e-02,\n",
              "        1.62280369e-01, 8.05801868e-02, 3.71900558e-02, 2.76880488e+00,\n",
              "        1.83519125e-01, 3.77166748e-02, 2.78609691e+00, 1.86413240e-01,\n",
              "        4.72197533e-02, 5.49903235e+00, 2.09889174e-01, 4.71646309e-02,\n",
              "        5.81378455e+00, 2.06071615e-01, 7.42242336e-02, 1.70440705e+01,\n",
              "        2.44400787e-01, 7.30933666e-02, 1.58473701e+01, 2.35000420e-01,\n",
              "        1.98451309e+00, 3.45307048e+01, 2.66213799e-01, 1.99228992e+00,\n",
              "        3.46318539e+01, 2.77365065e-01, 3.69692186e+01, 5.95541984e+01,\n",
              "        3.01670551e-01, 3.69326044e+01, 7.27133356e+01, 3.07111263e-01,\n",
              "        8.23356199e+01, 8.73608716e+01, 3.21600723e-01, 8.23658804e+01,\n",
              "        8.78252004e+01, 3.22078609e-01]),\n",
              " 'std_fit_time': array([2.95746613e-03, 8.43658614e-02, 2.54521245e-03, 3.53505330e-04,\n",
              "        8.38514993e-02, 5.43542219e-03, 1.09380160e-03, 2.18248210e+00,\n",
              "        1.85714922e-02, 1.36070372e-03, 2.17652116e+00, 1.88959861e-02,\n",
              "        1.76236962e-03, 4.37125646e+00, 2.59876662e-02, 1.27096600e-03,\n",
              "        4.80566314e+00, 2.55421422e-02, 3.64307755e-03, 1.44102676e+01,\n",
              "        3.70459735e-02, 3.28341176e-03, 1.47602821e+01, 3.32878538e-02,\n",
              "        2.56949748e+00, 2.71626794e+01, 3.55636851e-02, 2.58965219e+00,\n",
              "        2.32426756e+01, 3.96424146e-02, 1.18369101e+01, 3.40832698e+01,\n",
              "        4.23365008e-02, 1.18192715e+01, 3.94974964e+01, 5.68144748e-02,\n",
              "        1.57616075e+01, 4.26842711e+01, 4.03852636e-02, 1.57538780e+01,\n",
              "        2.98837268e+01, 4.09147256e-02]),\n",
              " 'mean_score_time': array([0.01534939, 0.02924457, 0.04648232, 0.01412888, 0.02699666,\n",
              "        0.0480967 , 0.01711769, 0.02306614, 0.04893565, 0.01715784,\n",
              "        0.02599006, 0.04646063, 0.01974745, 0.02434869, 0.04529161,\n",
              "        0.01846361, 0.02322345, 0.04508948, 0.02027397, 0.0233079 ,\n",
              "        0.04509139, 0.02148299, 0.02491145, 0.04493895, 0.02163115,\n",
              "        0.024612  , 0.04216466, 0.0219274 , 0.02454791, 0.0421133 ,\n",
              "        0.02164073, 0.02568984, 0.04193215, 0.02146773, 0.02489777,\n",
              "        0.04214344, 0.02070012, 0.02692585, 0.0417316 , 0.02049861,\n",
              "        0.0248148 , 0.04177833]),\n",
              " 'std_score_time': array([0.00201212, 0.00295125, 0.00144207, 0.00018221, 0.00285297,\n",
              "        0.00356031, 0.0003494 , 0.00416436, 0.00371154, 0.00040079,\n",
              "        0.00581911, 0.00198867, 0.00323792, 0.00382018, 0.00216829,\n",
              "        0.00035007, 0.00408098, 0.00118725, 0.00128043, 0.00480042,\n",
              "        0.00441001, 0.00322826, 0.00735537, 0.00478603, 0.00070862,\n",
              "        0.00545285, 0.00074548, 0.00080702, 0.00614385, 0.00105667,\n",
              "        0.00056543, 0.00704942, 0.00132008, 0.0006094 , 0.00650908,\n",
              "        0.00085226, 0.00066226, 0.0064786 , 0.00101756, 0.00087749,\n",
              "        0.00627   , 0.00119644]),\n",
              " 'param_C': masked_array(data=[0.1, 0.1, 0.1, 0.1, 0.1, 0.1, 5, 5, 5, 5, 5, 5, 10, 10,\n",
              "                    10, 10, 10, 10, 25.5, 25.5, 25.5, 25.5, 25.5, 25.5, 50,\n",
              "                    50, 50, 50, 50, 50, 80, 80, 80, 80, 80, 80, 100, 100,\n",
              "                    100, 100, 100, 100],\n",
              "              mask=[False, False, False, False, False, False, False, False,\n",
              "                    False, False, False, False, False, False, False, False,\n",
              "                    False, False, False, False, False, False, False, False,\n",
              "                    False, False, False, False, False, False, False, False,\n",
              "                    False, False, False, False, False, False, False, False,\n",
              "                    False, False],\n",
              "        fill_value='?',\n",
              "             dtype=object),\n",
              " 'param_gamma': masked_array(data=['scale', 'scale', 'scale', 'auto', 'auto', 'auto',\n",
              "                    'scale', 'scale', 'scale', 'auto', 'auto', 'auto',\n",
              "                    'scale', 'scale', 'scale', 'auto', 'auto', 'auto',\n",
              "                    'scale', 'scale', 'scale', 'auto', 'auto', 'auto',\n",
              "                    'scale', 'scale', 'scale', 'auto', 'auto', 'auto',\n",
              "                    'scale', 'scale', 'scale', 'auto', 'auto', 'auto',\n",
              "                    'scale', 'scale', 'scale', 'auto', 'auto', 'auto'],\n",
              "              mask=[False, False, False, False, False, False, False, False,\n",
              "                    False, False, False, False, False, False, False, False,\n",
              "                    False, False, False, False, False, False, False, False,\n",
              "                    False, False, False, False, False, False, False, False,\n",
              "                    False, False, False, False, False, False, False, False,\n",
              "                    False, False],\n",
              "        fill_value='?',\n",
              "             dtype=object),\n",
              " 'param_kernel': masked_array(data=['linear', 'poly', 'rbf', 'linear', 'poly', 'rbf',\n",
              "                    'linear', 'poly', 'rbf', 'linear', 'poly', 'rbf',\n",
              "                    'linear', 'poly', 'rbf', 'linear', 'poly', 'rbf',\n",
              "                    'linear', 'poly', 'rbf', 'linear', 'poly', 'rbf',\n",
              "                    'linear', 'poly', 'rbf', 'linear', 'poly', 'rbf',\n",
              "                    'linear', 'poly', 'rbf', 'linear', 'poly', 'rbf',\n",
              "                    'linear', 'poly', 'rbf', 'linear', 'poly', 'rbf'],\n",
              "              mask=[False, False, False, False, False, False, False, False,\n",
              "                    False, False, False, False, False, False, False, False,\n",
              "                    False, False, False, False, False, False, False, False,\n",
              "                    False, False, False, False, False, False, False, False,\n",
              "                    False, False, False, False, False, False, False, False,\n",
              "                    False, False],\n",
              "        fill_value='?',\n",
              "             dtype=object),\n",
              " 'params': [{'C': 0.1, 'gamma': 'scale', 'kernel': 'linear'},\n",
              "  {'C': 0.1, 'gamma': 'scale', 'kernel': 'poly'},\n",
              "  {'C': 0.1, 'gamma': 'scale', 'kernel': 'rbf'},\n",
              "  {'C': 0.1, 'gamma': 'auto', 'kernel': 'linear'},\n",
              "  {'C': 0.1, 'gamma': 'auto', 'kernel': 'poly'},\n",
              "  {'C': 0.1, 'gamma': 'auto', 'kernel': 'rbf'},\n",
              "  {'C': 5, 'gamma': 'scale', 'kernel': 'linear'},\n",
              "  {'C': 5, 'gamma': 'scale', 'kernel': 'poly'},\n",
              "  {'C': 5, 'gamma': 'scale', 'kernel': 'rbf'},\n",
              "  {'C': 5, 'gamma': 'auto', 'kernel': 'linear'},\n",
              "  {'C': 5, 'gamma': 'auto', 'kernel': 'poly'},\n",
              "  {'C': 5, 'gamma': 'auto', 'kernel': 'rbf'},\n",
              "  {'C': 10, 'gamma': 'scale', 'kernel': 'linear'},\n",
              "  {'C': 10, 'gamma': 'scale', 'kernel': 'poly'},\n",
              "  {'C': 10, 'gamma': 'scale', 'kernel': 'rbf'},\n",
              "  {'C': 10, 'gamma': 'auto', 'kernel': 'linear'},\n",
              "  {'C': 10, 'gamma': 'auto', 'kernel': 'poly'},\n",
              "  {'C': 10, 'gamma': 'auto', 'kernel': 'rbf'},\n",
              "  {'C': 25.5, 'gamma': 'scale', 'kernel': 'linear'},\n",
              "  {'C': 25.5, 'gamma': 'scale', 'kernel': 'poly'},\n",
              "  {'C': 25.5, 'gamma': 'scale', 'kernel': 'rbf'},\n",
              "  {'C': 25.5, 'gamma': 'auto', 'kernel': 'linear'},\n",
              "  {'C': 25.5, 'gamma': 'auto', 'kernel': 'poly'},\n",
              "  {'C': 25.5, 'gamma': 'auto', 'kernel': 'rbf'},\n",
              "  {'C': 50, 'gamma': 'scale', 'kernel': 'linear'},\n",
              "  {'C': 50, 'gamma': 'scale', 'kernel': 'poly'},\n",
              "  {'C': 50, 'gamma': 'scale', 'kernel': 'rbf'},\n",
              "  {'C': 50, 'gamma': 'auto', 'kernel': 'linear'},\n",
              "  {'C': 50, 'gamma': 'auto', 'kernel': 'poly'},\n",
              "  {'C': 50, 'gamma': 'auto', 'kernel': 'rbf'},\n",
              "  {'C': 80, 'gamma': 'scale', 'kernel': 'linear'},\n",
              "  {'C': 80, 'gamma': 'scale', 'kernel': 'poly'},\n",
              "  {'C': 80, 'gamma': 'scale', 'kernel': 'rbf'},\n",
              "  {'C': 80, 'gamma': 'auto', 'kernel': 'linear'},\n",
              "  {'C': 80, 'gamma': 'auto', 'kernel': 'poly'},\n",
              "  {'C': 80, 'gamma': 'auto', 'kernel': 'rbf'},\n",
              "  {'C': 100, 'gamma': 'scale', 'kernel': 'linear'},\n",
              "  {'C': 100, 'gamma': 'scale', 'kernel': 'poly'},\n",
              "  {'C': 100, 'gamma': 'scale', 'kernel': 'rbf'},\n",
              "  {'C': 100, 'gamma': 'auto', 'kernel': 'linear'},\n",
              "  {'C': 100, 'gamma': 'auto', 'kernel': 'poly'},\n",
              "  {'C': 100, 'gamma': 'auto', 'kernel': 'rbf'}],\n",
              " 'split0_test_AUC': array([0.70843091, 0.69320843, 0.60101483, 0.70843091, 0.70542545,\n",
              "        0.60437158, 0.58352849, 0.69055425, 0.59847775, 0.58352849,\n",
              "        0.6912178 , 0.59625293, 0.4734192 , 0.69968774, 0.59687744,\n",
              "        0.4734192 , 0.71518345, 0.59910226, 0.625605  , 0.69145199,\n",
              "        0.60530835, 0.625605  , 0.68462139, 0.60538642, 0.62021858,\n",
              "        0.69457455, 0.6037861 , 0.62021858, 0.63181109, 0.60312256,\n",
              "        0.65796253, 0.63317721, 0.61319282, 0.65796253, 0.6823185 ,\n",
              "        0.61405152, 0.66049961, 0.6784153 , 0.61256831, 0.66049961,\n",
              "        0.70581577, 0.61327088]),\n",
              " 'split1_test_AUC': array([0.74469165, 0.6147541 , 0.58001561, 0.74469165, 0.61081187,\n",
              "        0.57681499, 0.49391101, 0.6047619 , 0.52517564, 0.49391101,\n",
              "        0.61795472, 0.52486339, 0.51221702, 0.59301327, 0.52704918,\n",
              "        0.51221702, 0.55335675, 0.52806401, 0.78747073, 0.57704918,\n",
              "        0.52459016, 0.78747073, 0.59754098, 0.52318501, 0.54488681,\n",
              "        0.54047619, 0.5343872 , 0.54488681, 0.54469165, 0.53614364,\n",
              "        0.44371585, 0.53739266, 0.54363778, 0.44371585, 0.50733802,\n",
              "        0.54375488, 0.5284153 , 0.49843872, 0.54539422, 0.5284153 ,\n",
              "        0.50495706, 0.54465262]),\n",
              " 'split2_test_AUC': array([0.79897943, 0.68699775, 0.64846512, 0.79897943, 0.66084057,\n",
              "        0.63219222, 0.7590405 , 0.74529894, 0.58755223, 0.7590405 ,\n",
              "        0.7481919 , 0.58566377, 0.60503054, 0.74931694, 0.59269527,\n",
              "        0.60503054, 0.7447766 , 0.59257473, 0.65634041, 0.7516072 ,\n",
              "        0.61901318, 0.65634041, 0.74787046, 0.61800868, 0.55243491,\n",
              "        0.75273224, 0.62467856, 0.55243491, 0.74666506, 0.62403568,\n",
              "        0.6475008 , 0.74787046, 0.65790743, 0.6475008 , 0.74562038,\n",
              "        0.65766635, 0.56609611, 0.75036162, 0.66783189, 0.56609611,\n",
              "        0.74204436, 0.66803279]),\n",
              " 'split3_test_AUC': array([0.74676568, 0.64588626, 0.64158687, 0.74676568, 0.69822161,\n",
              "        0.66222396, 0.44748876, 0.72913817, 0.58491303, 0.44748876,\n",
              "        0.72366621, 0.57932382, 0.72179011, 0.72800469, 0.59054133,\n",
              "        0.72179011, 0.72390072, 0.5855384 , 0.52362713, 0.71616181,\n",
              "        0.58940786, 0.52362713, 0.72839554, 0.58991597, 0.56783271,\n",
              "        0.72624585, 0.59273012, 0.56783271, 0.72268908, 0.59269103,\n",
              "        0.38030096, 0.71479382, 0.60078171, 0.38030096, 0.71495017,\n",
              "        0.60121165, 0.45632206, 0.72464335, 0.60504202, 0.45632206,\n",
              "        0.71416846, 0.60519836]),\n",
              " 'split4_test_AUC': array([0.62610905, 0.69704905, 0.64342388, 0.62610905, 0.75231581,\n",
              "        0.61129568, 0.71878054, 0.80957592, 0.56165722, 0.71878054,\n",
              "        0.80769982, 0.56032832, 0.73421927, 0.81074849, 0.56501857,\n",
              "        0.73421927, 0.81344538, 0.56216533, 0.78331053, 0.80769982,\n",
              "        0.56752003, 0.78331053, 0.81000586, 0.56869259, 0.59820207,\n",
              "        0.81293727, 0.571624  , 0.59820207, 0.81211647, 0.57127223,\n",
              "        0.70373266, 0.81313269, 0.58460035, 0.70373266, 0.81309361,\n",
              "        0.58577291, 0.6337307 , 0.81582959, 0.59792847, 0.6337307 ,\n",
              "        0.81356263, 0.59925738]),\n",
              " 'mean_test_AUC': array([0.72499534, 0.66757912, 0.62290126, 0.72499534, 0.68552306,\n",
              "        0.61737969, 0.60054986, 0.71586584, 0.57155518, 0.60054986,\n",
              "        0.71774609, 0.56928645, 0.60933523, 0.71615423, 0.57443636,\n",
              "        0.60933523, 0.71013258, 0.57348895, 0.67527076, 0.708794  ,\n",
              "        0.58116792, 0.67527076, 0.71368685, 0.58103773, 0.57671502,\n",
              "        0.70539322, 0.5854412 , 0.57671502, 0.69159467, 0.58545303,\n",
              "        0.56664256, 0.68927337, 0.60002402, 0.56664256, 0.69266413,\n",
              "        0.60049146, 0.56901276, 0.69353771, 0.60575298, 0.56901276,\n",
              "        0.69610966, 0.6060824 ]),\n",
              " 'std_test_AUC': array([0.05725106, 0.0321356 , 0.02735703, 0.05725106, 0.04734896,\n",
              "        0.02857321, 0.12180891, 0.06754081, 0.02610821, 0.12180891,\n",
              "        0.06279448, 0.02509906, 0.10598657, 0.07158647, 0.02619389,\n",
              "        0.10598657, 0.08563583, 0.02591196, 0.10008223, 0.07658598,\n",
              "        0.03307636, 0.10008223, 0.07070627, 0.03328024, 0.02841024,\n",
              "        0.09116601, 0.03074625, 0.02841024, 0.09346624, 0.02995241,\n",
              "        0.12923255, 0.09554117, 0.03726064, 0.12923255, 0.10223218,\n",
              "        0.03711883, 0.07336772, 0.10718594, 0.03900038, 0.07336772,\n",
              "        0.10282494, 0.0392696 ]),\n",
              " 'rank_test_AUC': array([ 1, 18, 19,  1, 15, 20, 25,  5, 37, 25,  3, 38, 21,  4, 35, 21,  7,\n",
              "        36, 16,  8, 31, 16,  6, 32, 33,  9, 30, 33, 13, 29, 41, 14, 28, 41,\n",
              "        12, 27, 39, 11, 24, 39, 10, 23], dtype=int32),\n",
              " 'split0_test_f1': array([0.        , 0.        , 0.        , 0.        , 0.        ,\n",
              "        0.        , 0.        , 0.        , 0.        , 0.        ,\n",
              "        0.        , 0.        , 0.        , 0.        , 0.05      ,\n",
              "        0.        , 0.        , 0.05      , 0.        , 0.        ,\n",
              "        0.04761905, 0.        , 0.        , 0.04761905, 0.        ,\n",
              "        0.        , 0.04255319, 0.        , 0.        , 0.04255319,\n",
              "        0.        , 0.        , 0.04      , 0.        , 0.        ,\n",
              "        0.04      , 0.        , 0.        , 0.04      , 0.        ,\n",
              "        0.        , 0.04      ]),\n",
              " 'split1_test_f1': array([0.        , 0.        , 0.        , 0.        , 0.        ,\n",
              "        0.        , 0.        , 0.        , 0.        , 0.        ,\n",
              "        0.        , 0.        , 0.        , 0.        , 0.        ,\n",
              "        0.        , 0.        , 0.        , 0.        , 0.        ,\n",
              "        0.05263158, 0.        , 0.        , 0.05263158, 0.        ,\n",
              "        0.        , 0.09756098, 0.        , 0.        , 0.09756098,\n",
              "        0.        , 0.        , 0.13333333, 0.        , 0.        ,\n",
              "        0.13333333, 0.        , 0.        , 0.13043478, 0.        ,\n",
              "        0.        , 0.13043478]),\n",
              " 'split2_test_f1': array([0.        , 0.        , 0.        , 0.        , 0.        ,\n",
              "        0.        , 0.        , 0.        , 0.        , 0.        ,\n",
              "        0.        , 0.        , 0.        , 0.        , 0.        ,\n",
              "        0.        , 0.        , 0.        , 0.        , 0.        ,\n",
              "        0.        , 0.        , 0.        , 0.        , 0.        ,\n",
              "        0.        , 0.        , 0.        , 0.        , 0.        ,\n",
              "        0.        , 0.        , 0.        , 0.        , 0.        ,\n",
              "        0.        , 0.        , 0.        , 0.04651163, 0.        ,\n",
              "        0.        , 0.04651163]),\n",
              " 'split3_test_f1': array([0.        , 0.        , 0.        , 0.        , 0.        ,\n",
              "        0.        , 0.        , 0.        , 0.        , 0.        ,\n",
              "        0.        , 0.        , 0.        , 0.        , 0.        ,\n",
              "        0.        , 0.        , 0.        , 0.        , 0.        ,\n",
              "        0.        , 0.        , 0.        , 0.        , 0.        ,\n",
              "        0.        , 0.        , 0.        , 0.        , 0.        ,\n",
              "        0.        , 0.        , 0.04545455, 0.        , 0.        ,\n",
              "        0.04545455, 0.        , 0.        , 0.04545455, 0.        ,\n",
              "        0.        , 0.04545455]),\n",
              " 'split4_test_f1': array([0.        , 0.        , 0.        , 0.        , 0.        ,\n",
              "        0.        , 0.        , 0.        , 0.        , 0.        ,\n",
              "        0.        , 0.        , 0.        , 0.        , 0.05405405,\n",
              "        0.        , 0.        , 0.05405405, 0.        , 0.        ,\n",
              "        0.        , 0.        , 0.        , 0.        , 0.        ,\n",
              "        0.        , 0.        , 0.        , 0.        , 0.        ,\n",
              "        0.        , 0.        , 0.        , 0.        , 0.        ,\n",
              "        0.        , 0.        , 0.        , 0.        , 0.        ,\n",
              "        0.        , 0.        ]),\n",
              " 'mean_test_f1': array([0.        , 0.        , 0.        , 0.        , 0.        ,\n",
              "        0.        , 0.        , 0.        , 0.        , 0.        ,\n",
              "        0.        , 0.        , 0.        , 0.        , 0.02081081,\n",
              "        0.        , 0.        , 0.02081081, 0.        , 0.        ,\n",
              "        0.02005013, 0.        , 0.        , 0.02005013, 0.        ,\n",
              "        0.        , 0.02802283, 0.        , 0.        , 0.02802283,\n",
              "        0.        , 0.        , 0.04375758, 0.        , 0.        ,\n",
              "        0.04375758, 0.        , 0.        , 0.05248019, 0.        ,\n",
              "        0.        , 0.05248019]),\n",
              " 'std_test_f1': array([0.        , 0.        , 0.        , 0.        , 0.        ,\n",
              "        0.        , 0.        , 0.        , 0.        , 0.        ,\n",
              "        0.        , 0.        , 0.        , 0.        , 0.02552015,\n",
              "        0.        , 0.        , 0.02552015, 0.        , 0.        ,\n",
              "        0.02460739, 0.        , 0.        , 0.02460739, 0.        ,\n",
              "        0.        , 0.03847732, 0.        , 0.        , 0.03847732,\n",
              "        0.        , 0.        , 0.04872426, 0.        , 0.        ,\n",
              "        0.04872426, 0.        , 0.        , 0.04259537, 0.        ,\n",
              "        0.        , 0.04259537]),\n",
              " 'rank_test_f1': array([11, 11, 11, 11, 11, 11, 11, 11, 11, 11, 11, 11, 11, 11,  7, 11, 11,\n",
              "         7, 11, 11,  9, 11, 11,  9, 11, 11,  5, 11, 11,  5, 11, 11,  3, 11,\n",
              "        11,  3, 11, 11,  1, 11, 11,  1], dtype=int32)}"
            ]
          },
          "metadata": {},
          "execution_count": 22
        }
      ],
      "source": [
        "G_S_SVM.cv_results_"
      ]
    },
    {
      "cell_type": "code",
      "execution_count": 23,
      "metadata": {
        "id": "dcAQFrBf6RMT",
        "colab": {
          "base_uri": "https://localhost:8080/"
        },
        "outputId": "b72fcaca-7b83-4667-b463-7a80a727efd6"
      },
      "outputs": [
        {
          "output_type": "execute_result",
          "data": {
            "text/plain": [
              "{'C': 0.1, 'gamma': 'scale', 'kernel': 'linear'}"
            ]
          },
          "metadata": {},
          "execution_count": 23
        }
      ],
      "source": [
        "G_S_SVM.best_params_"
      ]
    },
    {
      "cell_type": "code",
      "execution_count": 24,
      "metadata": {
        "id": "wFlTwXau6Uaq",
        "colab": {
          "base_uri": "https://localhost:8080/"
        },
        "outputId": "901e10e0-dff3-4474-97cd-f44c9b2f13ae"
      },
      "outputs": [
        {
          "output_type": "execute_result",
          "data": {
            "text/plain": [
              "0.7249953439248363"
            ]
          },
          "metadata": {},
          "execution_count": 24
        }
      ],
      "source": [
        "G_S_SVM.best_score_"
      ]
    },
    {
      "cell_type": "code",
      "source": [
        "G_S_SVM.cv_results_['mean_test_AUC'] "
      ],
      "metadata": {
        "colab": {
          "base_uri": "https://localhost:8080/"
        },
        "id": "Ypo2sslIzUFw",
        "outputId": "ff48150e-d7fc-49a8-e5d8-d48723bb6a0d"
      },
      "execution_count": 25,
      "outputs": [
        {
          "output_type": "execute_result",
          "data": {
            "text/plain": [
              "array([0.72499534, 0.66757912, 0.62290126, 0.72499534, 0.68552306,\n",
              "       0.61737969, 0.60054986, 0.71586584, 0.57155518, 0.60054986,\n",
              "       0.71774609, 0.56928645, 0.60933523, 0.71615423, 0.57443636,\n",
              "       0.60933523, 0.71013258, 0.57348895, 0.67527076, 0.708794  ,\n",
              "       0.58116792, 0.67527076, 0.71368685, 0.58103773, 0.57671502,\n",
              "       0.70539322, 0.5854412 , 0.57671502, 0.69159467, 0.58545303,\n",
              "       0.56664256, 0.68927337, 0.60002402, 0.56664256, 0.69266413,\n",
              "       0.60049146, 0.56901276, 0.69353771, 0.60575298, 0.56901276,\n",
              "       0.69610966, 0.6060824 ])"
            ]
          },
          "metadata": {},
          "execution_count": 25
        }
      ]
    },
    {
      "cell_type": "code",
      "source": [
        "G_S_SVM.cv_results_['mean_test_f1'] "
      ],
      "metadata": {
        "colab": {
          "base_uri": "https://localhost:8080/"
        },
        "id": "V7ZG2JXWzZE3",
        "outputId": "27c8526c-9bdf-4701-a692-a19f443adcf6"
      },
      "execution_count": 26,
      "outputs": [
        {
          "output_type": "execute_result",
          "data": {
            "text/plain": [
              "array([0.        , 0.        , 0.        , 0.        , 0.        ,\n",
              "       0.        , 0.        , 0.        , 0.        , 0.        ,\n",
              "       0.        , 0.        , 0.        , 0.        , 0.02081081,\n",
              "       0.        , 0.        , 0.02081081, 0.        , 0.        ,\n",
              "       0.02005013, 0.        , 0.        , 0.02005013, 0.        ,\n",
              "       0.        , 0.02802283, 0.        , 0.        , 0.02802283,\n",
              "       0.        , 0.        , 0.04375758, 0.        , 0.        ,\n",
              "       0.04375758, 0.        , 0.        , 0.05248019, 0.        ,\n",
              "       0.        , 0.05248019])"
            ]
          },
          "metadata": {},
          "execution_count": 26
        }
      ]
    },
    {
      "cell_type": "markdown",
      "source": [
        "# **Regresión logística**"
      ],
      "metadata": {
        "id": "stgXs4lc-R0A"
      }
    },
    {
      "cell_type": "code",
      "source": [
        "grid = { \n",
        "   # 'penalty': [\"l2\",\"none\"],\n",
        "    'C' : np.arange(0.001,0.03,0.001),\n",
        "    #'solver' : [\"newton-cg\", \"lbfgs\", \"sag\", \"saga\"],\n",
        "}\n",
        "scoring = {\"AUC\": \"roc_auc\", \"f1\": make_scorer(f1_score)}\n",
        "\n",
        "G_S_LR = GridSearchCV(estimator= LogisticRegression(), param_grid=grid, cv= 5,scoring=scoring,refit=\"AUC\")\n",
        "G_S_LR.fit(X_train, y_train)"
      ],
      "metadata": {
        "colab": {
          "base_uri": "https://localhost:8080/"
        },
        "id": "urtUJXu3-RJt",
        "outputId": "1449a11f-8e25-4106-9406-f2ecd7451102"
      },
      "execution_count": 237,
      "outputs": [
        {
          "output_type": "execute_result",
          "data": {
            "text/plain": [
              "GridSearchCV(cv=5, estimator=LogisticRegression(),\n",
              "             param_grid={'C': array([0.001, 0.002, 0.003, 0.004, 0.005, 0.006, 0.007, 0.008, 0.009,\n",
              "       0.01 , 0.011, 0.012, 0.013, 0.014, 0.015, 0.016, 0.017, 0.018,\n",
              "       0.019, 0.02 , 0.021, 0.022, 0.023, 0.024, 0.025, 0.026, 0.027,\n",
              "       0.028, 0.029])},\n",
              "             refit='AUC',\n",
              "             scoring={'AUC': 'roc_auc', 'f1': make_scorer(f1_score)})"
            ]
          },
          "metadata": {},
          "execution_count": 237
        }
      ]
    },
    {
      "cell_type": "code",
      "source": [
        "G_S_LR.best_params_"
      ],
      "metadata": {
        "colab": {
          "base_uri": "https://localhost:8080/"
        },
        "id": "5_5TLF75-eu9",
        "outputId": "dae4a5d0-0b97-42e7-8fde-064d9e180e57"
      },
      "execution_count": 238,
      "outputs": [
        {
          "output_type": "execute_result",
          "data": {
            "text/plain": [
              "{'C': 0.029}"
            ]
          },
          "metadata": {},
          "execution_count": 238
        }
      ]
    },
    {
      "cell_type": "code",
      "source": [
        "G_S_LR.best_score_"
      ],
      "metadata": {
        "colab": {
          "base_uri": "https://localhost:8080/"
        },
        "id": "n0XhqJauSHEy",
        "outputId": "92c8ded7-e637-4009-91bd-c6b6686d88c8"
      },
      "execution_count": 239,
      "outputs": [
        {
          "output_type": "execute_result",
          "data": {
            "text/plain": [
              "0.837600425490289"
            ]
          },
          "metadata": {},
          "execution_count": 239
        }
      ]
    },
    {
      "cell_type": "code",
      "source": [
        "G_S_LR.cv_results_['mean_test_AUC'] "
      ],
      "metadata": {
        "colab": {
          "base_uri": "https://localhost:8080/"
        },
        "id": "ClSnmkSA0JFn",
        "outputId": "4b9423d1-7ba0-4860-b790-f75033353bb3"
      },
      "execution_count": 240,
      "outputs": [
        {
          "output_type": "execute_result",
          "data": {
            "text/plain": [
              "array([0.81963887, 0.82265387, 0.82517373, 0.82723319, 0.82898367,\n",
              "       0.83012401, 0.83141698, 0.83245314, 0.83308015, 0.83349721,\n",
              "       0.83405518, 0.83453207, 0.83495103, 0.83536228, 0.83566369,\n",
              "       0.83583336, 0.83609857, 0.83640708, 0.83666426, 0.83673064,\n",
              "       0.83673936, 0.83681422, 0.83704217, 0.83701387, 0.8372321 ,\n",
              "       0.83731905, 0.83732095, 0.83742462, 0.83760043])"
            ]
          },
          "metadata": {},
          "execution_count": 240
        }
      ]
    },
    {
      "cell_type": "code",
      "source": [
        "G_S_LR.cv_results_['mean_test_f1'] "
      ],
      "metadata": {
        "colab": {
          "base_uri": "https://localhost:8080/"
        },
        "id": "2QxhSAXQ0J4g",
        "outputId": "01f1d68b-eb6f-461e-c5e8-12c4126b5759"
      },
      "execution_count": 241,
      "outputs": [
        {
          "output_type": "execute_result",
          "data": {
            "text/plain": [
              "array([0., 0., 0., 0., 0., 0., 0., 0., 0., 0., 0., 0., 0., 0., 0., 0., 0.,\n",
              "       0., 0., 0., 0., 0., 0., 0., 0., 0., 0., 0., 0.])"
            ]
          },
          "metadata": {},
          "execution_count": 241
        }
      ]
    },
    {
      "cell_type": "markdown",
      "source": [
        "# **KNN**"
      ],
      "metadata": {
        "id": "I7y80MIDQ3Fj"
      }
    },
    {
      "cell_type": "code",
      "source": [
        "from sklearn.neighbors import KNeighborsClassifier\n",
        "\n",
        "scoring = {\"AUC\": \"roc_auc\", \"f1\": make_scorer(f1_score)}\n",
        "\n",
        "pg=[{'n_neighbors':[1,2,5,10,25,50,80],'algorithm':[\"auto\",\"ball_tree\",\"kd_tree\",\"brute\"],'weights':[\"uniform\",\"distance\"]}]\n",
        "G_S_k=GridSearchCV(estimator=KNeighborsClassifier(),param_grid=pg, scoring=scoring,refit=\"AUC\")\n",
        "G_S_k.fit(X_train,y_train)\n"
      ],
      "metadata": {
        "colab": {
          "base_uri": "https://localhost:8080/"
        },
        "id": "D7Dw2r4EQ6pT",
        "outputId": "dcf4abdd-9aaf-4b84-8955-b0264da5d44f"
      },
      "execution_count": 243,
      "outputs": [
        {
          "output_type": "execute_result",
          "data": {
            "text/plain": [
              "GridSearchCV(estimator=KNeighborsClassifier(),\n",
              "             param_grid=[{'algorithm': ['auto', 'ball_tree', 'kd_tree',\n",
              "                                        'brute'],\n",
              "                          'n_neighbors': [1, 2, 5, 10, 25, 50, 80],\n",
              "                          'weights': ['uniform', 'distance']}],\n",
              "             refit='AUC',\n",
              "             scoring={'AUC': 'roc_auc', 'f1': make_scorer(f1_score)})"
            ]
          },
          "metadata": {},
          "execution_count": 243
        }
      ]
    },
    {
      "cell_type": "code",
      "source": [
        "G_S_k.best_params_"
      ],
      "metadata": {
        "colab": {
          "base_uri": "https://localhost:8080/"
        },
        "id": "evX5J9lNSJWV",
        "outputId": "f08d1341-edcd-4e33-ff2b-80fa79831cee"
      },
      "execution_count": 244,
      "outputs": [
        {
          "output_type": "execute_result",
          "data": {
            "text/plain": [
              "{'algorithm': 'auto', 'n_neighbors': 50, 'weights': 'uniform'}"
            ]
          },
          "metadata": {},
          "execution_count": 244
        }
      ]
    },
    {
      "cell_type": "code",
      "source": [
        "G_S_k.best_score_"
      ],
      "metadata": {
        "colab": {
          "base_uri": "https://localhost:8080/"
        },
        "id": "luWnVWnTSTVq",
        "outputId": "047d3117-0186-4787-ae44-8f2018b585a4"
      },
      "execution_count": 245,
      "outputs": [
        {
          "output_type": "execute_result",
          "data": {
            "text/plain": [
              "0.8091997710175098"
            ]
          },
          "metadata": {},
          "execution_count": 245
        }
      ]
    },
    {
      "cell_type": "code",
      "source": [
        "G_S_k.cv_results_['mean_test_AUC'] "
      ],
      "metadata": {
        "colab": {
          "base_uri": "https://localhost:8080/"
        },
        "id": "iMgJ4NXs2cH3",
        "outputId": "df0b002e-4e2c-4b1c-f9c6-fdc5ad2bd19a"
      },
      "execution_count": 246,
      "outputs": [
        {
          "output_type": "execute_result",
          "data": {
            "text/plain": [
              "array([0.52760562, 0.52760562, 0.56523318, 0.56507457, 0.62600452,\n",
              "       0.6255411 , 0.71344893, 0.70863992, 0.79276095, 0.78619002,\n",
              "       0.80919977, 0.80481029, 0.80864477, 0.80764015, 0.52760562,\n",
              "       0.52760562, 0.56523318, 0.56507457, 0.62600452, 0.6255411 ,\n",
              "       0.71344893, 0.70863992, 0.79276095, 0.78619002, 0.80919977,\n",
              "       0.80481029, 0.80864477, 0.80764015, 0.52760562, 0.52760562,\n",
              "       0.56523318, 0.56507457, 0.62600452, 0.6255411 , 0.71344893,\n",
              "       0.70863992, 0.79276095, 0.78619002, 0.80919977, 0.80481029,\n",
              "       0.80864477, 0.80764015, 0.52760562, 0.52760562, 0.56523318,\n",
              "       0.56507457, 0.62600452, 0.6255411 , 0.71344893, 0.70863992,\n",
              "       0.79276095, 0.78619002, 0.80919977, 0.80481029, 0.80864477,\n",
              "       0.80764015])"
            ]
          },
          "metadata": {},
          "execution_count": 246
        }
      ]
    },
    {
      "cell_type": "code",
      "source": [
        "G_S_k.cv_results_['mean_test_f1'] "
      ],
      "metadata": {
        "colab": {
          "base_uri": "https://localhost:8080/"
        },
        "id": "pA7Sxhgy2f16",
        "outputId": "b55ac344-a323-4a51-97d6-ebde2b38a9c8"
      },
      "execution_count": 247,
      "outputs": [
        {
          "output_type": "execute_result",
          "data": {
            "text/plain": [
              "array([0.0977839 , 0.0977839 , 0.01864499, 0.0977839 , 0.01882614,\n",
              "       0.04708114, 0.        , 0.01      , 0.        , 0.        ,\n",
              "       0.        , 0.        , 0.        , 0.        , 0.0977839 ,\n",
              "       0.0977839 , 0.01864499, 0.0977839 , 0.01882614, 0.04708114,\n",
              "       0.        , 0.01      , 0.        , 0.        , 0.        ,\n",
              "       0.        , 0.        , 0.        , 0.0977839 , 0.0977839 ,\n",
              "       0.01864499, 0.0977839 , 0.01882614, 0.04708114, 0.        ,\n",
              "       0.01      , 0.        , 0.        , 0.        , 0.        ,\n",
              "       0.        , 0.        , 0.0977839 , 0.0977839 , 0.01864499,\n",
              "       0.0977839 , 0.01882614, 0.04708114, 0.        , 0.01      ,\n",
              "       0.        , 0.        , 0.        , 0.        , 0.        ,\n",
              "       0.        ])"
            ]
          },
          "metadata": {},
          "execution_count": 247
        }
      ]
    }
  ],
  "metadata": {
    "colab": {
      "provenance": []
    },
    "kernelspec": {
      "display_name": "Python 3",
      "name": "python3"
    },
    "language_info": {
      "name": "python"
    }
  },
  "nbformat": 4,
  "nbformat_minor": 0
}