{
  "cells": [
    {
      "cell_type": "markdown",
      "source": [
        "# **Proyecto de Inteligencia Artifical**\n",
        "\n",
        "---\n",
        "Laura Sofía Gómez Lizarazo\\\n",
        "Dataset: https://www.kaggle.com/datasets/fedesoriano/stroke-prediction-dataset\n",
        "\n"
      ],
      "metadata": {
        "id": "Uj0noPR0VA2G"
      }
    },
    {
      "cell_type": "code",
      "execution_count": 102,
      "metadata": {
        "id": "cUWoDUArfZYq"
      },
      "outputs": [],
      "source": [
        "# Librerias\n",
        "import numpy as np\n",
        "import pandas as pd\n",
        "from sklearn import preprocessing, linear_model\n",
        "from sklearn.model_selection import train_test_split\n",
        "from sklearn.neighbors import KNeighborsClassifier\n",
        "from sklearn.linear_model import LogisticRegression\n",
        "from sklearn.metrics import f1_score\n",
        "from sklearn.svm import SVR\n",
        "from sklearn.svm import SVC\n",
        "from sklearn.model_selection import GridSearchCV\n",
        "from sklearn.metrics import r2_score\n",
        "from sklearn.preprocessing import StandardScaler\n",
        "from sklearn import decomposition"
      ]
    },
    {
      "cell_type": "markdown",
      "source": [
        "**Lectura de datos**"
      ],
      "metadata": {
        "id": "54I8psi6WKT9"
      }
    },
    {
      "cell_type": "code",
      "execution_count": 103,
      "metadata": {
        "id": "5LAi8li3fy3C"
      },
      "outputs": [],
      "source": [
        "datos = pd.read_csv('Datos.csv')"
      ]
    },
    {
      "cell_type": "markdown",
      "source": [
        "**Revisión de datos nulos**"
      ],
      "metadata": {
        "id": "gm76dCLBWVZi"
      }
    },
    {
      "cell_type": "code",
      "execution_count": 104,
      "metadata": {
        "id": "0OF86oU4e-yt"
      },
      "outputs": [],
      "source": [
        "datos = datos.drop([\"id\",\"ever_married\",\"work_type\",\"Residence_type\"], axis=1)"
      ]
    },
    {
      "cell_type": "code",
      "execution_count": 105,
      "metadata": {
        "colab": {
          "base_uri": "https://localhost:8080/"
        },
        "id": "oFRFSiTYf72A",
        "outputId": "0b3c9428-b54c-4f45-89b0-c608041bb87f"
      },
      "outputs": [
        {
          "output_type": "execute_result",
          "data": {
            "text/plain": [
              "gender                 0\n",
              "age                    0\n",
              "hypertension           0\n",
              "heart_disease          0\n",
              "avg_glucose_level      0\n",
              "bmi                  201\n",
              "smoking_status         0\n",
              "stroke                 0\n",
              "dtype: int64"
            ]
          },
          "metadata": {},
          "execution_count": 105
        }
      ],
      "source": [
        "datos.isnull().sum()"
      ]
    },
    {
      "cell_type": "markdown",
      "source": [
        "**Limpieza de datos a partir de la media**"
      ],
      "metadata": {
        "id": "5XkD-XxFWdL-"
      }
    },
    {
      "cell_type": "code",
      "execution_count": 106,
      "metadata": {
        "colab": {
          "base_uri": "https://localhost:8080/"
        },
        "id": "-nxc28shgGom",
        "outputId": "edaf9ef0-6cb8-45d4-cd5a-f9caf1d59c9c"
      },
      "outputs": [
        {
          "output_type": "stream",
          "name": "stderr",
          "text": [
            "/usr/local/lib/python3.7/dist-packages/ipykernel_launcher.py:1: FutureWarning: Dropping of nuisance columns in DataFrame reductions (with 'numeric_only=None') is deprecated; in a future version this will raise TypeError.  Select only valid columns before calling the reduction.\n",
            "  \"\"\"Entry point for launching an IPython kernel.\n"
          ]
        }
      ],
      "source": [
        "Datos=datos.fillna(datos.mean())\n"
      ]
    },
    {
      "cell_type": "code",
      "execution_count": 107,
      "metadata": {
        "colab": {
          "base_uri": "https://localhost:8080/"
        },
        "id": "Vrdq6QM-iblE",
        "outputId": "ae38085a-a2db-4eae-f0cd-80d62da901dd"
      },
      "outputs": [
        {
          "output_type": "execute_result",
          "data": {
            "text/plain": [
              "gender               0\n",
              "age                  0\n",
              "hypertension         0\n",
              "heart_disease        0\n",
              "avg_glucose_level    0\n",
              "bmi                  0\n",
              "smoking_status       0\n",
              "stroke               0\n",
              "dtype: int64"
            ]
          },
          "metadata": {},
          "execution_count": 107
        }
      ],
      "source": [
        "# VALIDACIÓN DE LA LIMPIEZA DE DATOS\n",
        "Datos.isnull().sum()"
      ]
    },
    {
      "cell_type": "code",
      "execution_count": 108,
      "metadata": {
        "colab": {
          "base_uri": "https://localhost:8080/"
        },
        "id": "FxhAF22KjBSa",
        "outputId": "2f6aae5c-7fec-4e9f-d7fc-e67ffe451158"
      },
      "outputs": [
        {
          "output_type": "stream",
          "name": "stdout",
          "text": [
            "<class 'pandas.core.frame.DataFrame'>\n",
            "RangeIndex: 5110 entries, 0 to 5109\n",
            "Data columns (total 8 columns):\n",
            " #   Column             Non-Null Count  Dtype  \n",
            "---  ------             --------------  -----  \n",
            " 0   gender             5110 non-null   object \n",
            " 1   age                5110 non-null   float64\n",
            " 2   hypertension       5110 non-null   int64  \n",
            " 3   heart_disease      5110 non-null   int64  \n",
            " 4   avg_glucose_level  5110 non-null   float64\n",
            " 5   bmi                5110 non-null   float64\n",
            " 6   smoking_status     5110 non-null   object \n",
            " 7   stroke             5110 non-null   int64  \n",
            "dtypes: float64(3), int64(3), object(2)\n",
            "memory usage: 319.5+ KB\n"
          ]
        }
      ],
      "source": [
        "Datos.info()"
      ]
    },
    {
      "cell_type": "code",
      "execution_count": 109,
      "metadata": {
        "id": "C7YSHk6Kib4F"
      },
      "outputs": [],
      "source": [
        "\n",
        "#CONVERSIÓN DE DATOS STRING A NUMÉRICOS \n",
        "lc = preprocessing.LabelEncoder()\n",
        "columnas=[\"gender\",\"smoking_status\"]\n",
        "for c in columnas:\n",
        "  Datos[c]=lc.fit_transform(Datos[c])"
      ]
    },
    {
      "cell_type": "code",
      "execution_count": 110,
      "metadata": {
        "colab": {
          "base_uri": "https://localhost:8080/"
        },
        "id": "XbTgDTNKkEUO",
        "outputId": "bbe06442-aeb3-46f0-87e8-a592f613831e"
      },
      "outputs": [
        {
          "output_type": "stream",
          "name": "stdout",
          "text": [
            "<class 'pandas.core.frame.DataFrame'>\n",
            "RangeIndex: 5110 entries, 0 to 5109\n",
            "Data columns (total 8 columns):\n",
            " #   Column             Non-Null Count  Dtype  \n",
            "---  ------             --------------  -----  \n",
            " 0   gender             5110 non-null   int64  \n",
            " 1   age                5110 non-null   float64\n",
            " 2   hypertension       5110 non-null   int64  \n",
            " 3   heart_disease      5110 non-null   int64  \n",
            " 4   avg_glucose_level  5110 non-null   float64\n",
            " 5   bmi                5110 non-null   float64\n",
            " 6   smoking_status     5110 non-null   int64  \n",
            " 7   stroke             5110 non-null   int64  \n",
            "dtypes: float64(3), int64(5)\n",
            "memory usage: 319.5 KB\n"
          ]
        }
      ],
      "source": [
        "Datos.info()"
      ]
    },
    {
      "cell_type": "markdown",
      "source": [
        "**CSV con los datos limpios**"
      ],
      "metadata": {
        "id": "CHIVu7O0apJq"
      }
    },
    {
      "cell_type": "code",
      "execution_count": 111,
      "metadata": {
        "id": "T6WeiF47kXUX"
      },
      "outputs": [],
      "source": [
        "# Creación del dataset con los datos limpios\n",
        "Datos.to_csv(\"New_data.csv\",index=False)"
      ]
    },
    {
      "cell_type": "markdown",
      "source": [
        "**X y Y**"
      ],
      "metadata": {
        "id": "JrwIAzXyaw90"
      }
    },
    {
      "cell_type": "code",
      "execution_count": 112,
      "metadata": {
        "id": "cY9SdS75kqyQ"
      },
      "outputs": [],
      "source": [
        "\n",
        "y = Datos.stroke\n",
        "X = Datos.drop([\"stroke\"], axis=1)"
      ]
    },
    {
      "cell_type": "markdown",
      "source": [
        "**Tamaño de datos entrenanmiento y validación**"
      ],
      "metadata": {
        "id": "mlUdU0g-a4HO"
      }
    },
    {
      "cell_type": "code",
      "execution_count": 113,
      "metadata": {
        "id": "FdwdzuwSlQU8"
      },
      "outputs": [],
      "source": [
        "# Método Hold-out\n",
        "train_size = 0.75\n",
        "test_size  = 0.25\n",
        "X_train, X_test, y_train, y_test = train_test_split(X, y, train_size=0.75)"
      ]
    },
    {
      "cell_type": "markdown",
      "source": [
        "**Normalización de los datos**"
      ],
      "metadata": {
        "id": "sKM31PdJbEqA"
      }
    },
    {
      "cell_type": "code",
      "execution_count": 114,
      "metadata": {
        "id": "jjcdLbaklkAz"
      },
      "outputs": [],
      "source": [
        "# Normalizacion\n",
        "scaler = StandardScaler()\n",
        "scaler.fit(X_train)\n",
        "X_train = scaler.transform(X_train)\n",
        "X_test = scaler.transform(X_test)"
      ]
    },
    {
      "cell_type": "markdown",
      "metadata": {
        "id": "ygoRQKmxtRZ9"
      },
      "source": [
        "# **PCA**"
      ]
    },
    {
      "cell_type": "code",
      "execution_count": 120,
      "metadata": {
        "colab": {
          "base_uri": "https://localhost:8080/"
        },
        "id": "58R6PNpOmCPp",
        "outputId": "862c9b7a-eae2-4996-a868-2391a4152986"
      },
      "outputs": [
        {
          "output_type": "stream",
          "name": "stdout",
          "text": [
            "Pesos en PCA: [0.27472528 0.1627355  0.13237134 0.12247597 0.11857533 0.10694916\n",
            " 0.08216742]\n",
            "Suma total de los pesos PCA 1.0\n"
          ]
        }
      ],
      "source": [
        "PCA = decomposition.PCA(n_components=7)\n",
        "PCA.fit(X_train)\n",
        "X_train = PCA.transform(X_train)\n",
        "\n",
        "print(\"Pesos en PCA:\",PCA.explained_variance_ratio_)\n",
        "print(\"Suma total de los pesos PCA\",sum(PCA.explained_variance_ratio_))"
      ]
    },
    {
      "cell_type": "code",
      "execution_count": 121,
      "metadata": {
        "colab": {
          "base_uri": "https://localhost:8080/"
        },
        "id": "KMslwh7VpC6-",
        "outputId": "9f8ee84c-24be-4b67-82ac-797938317496"
      },
      "outputs": [
        {
          "output_type": "execute_result",
          "data": {
            "text/plain": [
              "GridSearchCV(estimator=SVR(),\n",
              "             param_grid=[{'kernel': ['linear', 'poly', 'rbf']}], scoring='r2')"
            ]
          },
          "metadata": {},
          "execution_count": 121
        }
      ],
      "source": [
        "pg=[{\"kernel\":[\"linear\",\"poly\",\"rbf\"]}]\n",
        "G_S =GridSearchCV(estimator=SVR(),param_grid=pg, scoring=\"r2\")\n",
        "G_S.fit(X_train,y_train)"
      ]
    },
    {
      "cell_type": "code",
      "execution_count": 122,
      "metadata": {
        "colab": {
          "base_uri": "https://localhost:8080/"
        },
        "id": "Hdjy6N37okLJ",
        "outputId": "7dc82f60-d974-4471-d20f-3d90a2787e3d"
      },
      "outputs": [
        {
          "output_type": "execute_result",
          "data": {
            "text/plain": [
              "{'kernel': 'poly'}"
            ]
          },
          "metadata": {},
          "execution_count": 122
        }
      ],
      "source": [
        "gridsearchCV.best_params_"
      ]
    },
    {
      "cell_type": "code",
      "execution_count": 123,
      "metadata": {
        "colab": {
          "base_uri": "https://localhost:8080/"
        },
        "id": "MgeyPvPjotNm",
        "outputId": "39260a48-33b8-4a49-98b5-e7630d57c692"
      },
      "outputs": [
        {
          "output_type": "execute_result",
          "data": {
            "text/plain": [
              "-0.0411548911898806"
            ]
          },
          "metadata": {},
          "execution_count": 123
        }
      ],
      "source": [
        "gridsearchCV.best_score_"
      ]
    },
    {
      "cell_type": "markdown",
      "metadata": {
        "id": "zpqNxYgv5nEw"
      },
      "source": [
        "# **SVM**"
      ]
    },
    {
      "cell_type": "code",
      "execution_count": 141,
      "metadata": {
        "colab": {
          "base_uri": "https://localhost:8080/"
        },
        "id": "U8QHaRj75mfg",
        "outputId": "95ce6cbc-1586-4ea8-989b-8088c022304a"
      },
      "outputs": [
        {
          "output_type": "execute_result",
          "data": {
            "text/plain": [
              "GridSearchCV(estimator=SVR(),\n",
              "             param_grid=[{'C': [0.1, 5, 10, 25.5, 50, 80, 100],\n",
              "                          'gamma': ['scale', 'auto'],\n",
              "                          'kernel': ['linear', 'poly', 'rbf']}],\n",
              "             scoring='r2')"
            ]
          },
          "metadata": {},
          "execution_count": 141
        }
      ],
      "source": [
        "pg =[{'kernel':[\"linear\",\"poly\",\"rbf\"],'gamma':[\"scale\",\"auto\"],'C':[0.1,5,10,25.5,50,80,100]}]\n",
        "G_S=GridSearchCV(estimator=SVR(),param_grid= pg, scoring=\"r2\")\n",
        "G_S.fit(X_train,y_train)"
      ]
    },
    {
      "cell_type": "code",
      "execution_count": 142,
      "metadata": {
        "id": "BMaw2Nxn6Our",
        "colab": {
          "base_uri": "https://localhost:8080/"
        },
        "outputId": "5aa14d0f-3b48-45b7-89c7-b8f091bceaef"
      },
      "outputs": [
        {
          "output_type": "execute_result",
          "data": {
            "text/plain": [
              "{'mean_fit_time': array([5.65538406e-02, 4.61863947e-01, 1.45083141e-01, 4.07583237e-02,\n",
              "        2.55533648e-01, 1.35150337e-01, 2.84958887e-01, 4.04502325e+00,\n",
              "        3.68971539e-01, 2.88872480e-01, 4.11467838e+00, 3.60206938e-01,\n",
              "        5.46371555e-01, 9.03172412e+00, 4.44814777e-01, 5.49130774e-01,\n",
              "        7.91291170e+00, 4.41478205e-01, 1.25146847e+00, 1.90423144e+01,\n",
              "        7.06516027e-01, 1.25119009e+00, 1.95520586e+01, 7.16030121e-01,\n",
              "        9.02603803e+00, 3.90441925e+01, 1.09692788e+00, 9.27854338e+00,\n",
              "        3.34034048e+01, 1.08680320e+00, 5.21660241e+01, 6.86777048e+01,\n",
              "        1.54642920e+00, 5.18986881e+01, 6.18391330e+01, 1.50437765e+00,\n",
              "        6.91657507e+01, 8.00014090e+01, 1.80192704e+00, 6.90947101e+01,\n",
              "        7.70832661e+01, 1.79120207e+00]),\n",
              " 'std_fit_time': array([1.37883347e-02, 1.53072386e-01, 1.70089782e-02, 1.10411638e-02,\n",
              "        9.48466859e-02, 1.19267015e-02, 1.60450995e-02, 1.35169767e+00,\n",
              "        2.17564802e-02, 1.98847067e-02, 1.55877916e+00, 2.38884840e-02,\n",
              "        5.42553260e-02, 4.08409231e+00, 3.72863132e-02, 4.81767958e-02,\n",
              "        3.35990575e+00, 4.22617997e-02, 1.15307614e-01, 9.35674319e+00,\n",
              "        4.59567073e-02, 1.23529142e-01, 7.79474144e+00, 3.07356921e-02,\n",
              "        4.38840353e+00, 9.56119691e+00, 5.93222439e-02, 4.60108452e+00,\n",
              "        1.34233110e+01, 5.17330498e-02, 1.16467665e+01, 2.20962271e+01,\n",
              "        7.38861270e-02, 1.16253904e+01, 1.23066843e+01, 9.84617179e-02,\n",
              "        1.46888584e+01, 1.99717952e+01, 9.88305021e-02, 1.46633052e+01,\n",
              "        1.91323765e+01, 1.12415690e-01]),\n",
              " 'mean_score_time': array([0.00920882, 0.01826639, 0.02263451, 0.0067524 , 0.00938659,\n",
              "        0.02272105, 0.01162148, 0.01006474, 0.02440853, 0.01035471,\n",
              "        0.00971122, 0.02467737, 0.01140351, 0.01155224, 0.02419868,\n",
              "        0.01148672, 0.01164069, 0.02427325, 0.01265554, 0.01049433,\n",
              "        0.02576885, 0.01298127, 0.01054478, 0.02569561, 0.01425691,\n",
              "        0.01076608, 0.02677364, 0.01430697, 0.01069155, 0.02740417,\n",
              "        0.01399894, 0.01099315, 0.02810593, 0.01441851, 0.0107656 ,\n",
              "        0.02797356, 0.0123137 , 0.01092362, 0.02903552, 0.01359272,\n",
              "        0.01071124, 0.0292397 ]),\n",
              " 'std_score_time': array([0.00202586, 0.00215059, 0.00065603, 0.0002595 , 0.00104965,\n",
              "        0.00076504, 0.00135588, 0.00205593, 0.00058533, 0.00019675,\n",
              "        0.00190695, 0.00050539, 0.0003175 , 0.00522096, 0.00083595,\n",
              "        0.0003225 , 0.00223368, 0.00064611, 0.00043235, 0.00277908,\n",
              "        0.00040731, 0.00099038, 0.00280168, 0.0004511 , 0.00093527,\n",
              "        0.00356137, 0.0005158 , 0.00076656, 0.00313841, 0.00059261,\n",
              "        0.00073757, 0.00395855, 0.00066027, 0.00055056, 0.00296764,\n",
              "        0.00049341, 0.00073219, 0.00317877, 0.00072853, 0.00201574,\n",
              "        0.00325213, 0.0014937 ]),\n",
              " 'param_C': masked_array(data=[0.1, 0.1, 0.1, 0.1, 0.1, 0.1, 5, 5, 5, 5, 5, 5, 10, 10,\n",
              "                    10, 10, 10, 10, 25.5, 25.5, 25.5, 25.5, 25.5, 25.5, 50,\n",
              "                    50, 50, 50, 50, 50, 80, 80, 80, 80, 80, 80, 100, 100,\n",
              "                    100, 100, 100, 100],\n",
              "              mask=[False, False, False, False, False, False, False, False,\n",
              "                    False, False, False, False, False, False, False, False,\n",
              "                    False, False, False, False, False, False, False, False,\n",
              "                    False, False, False, False, False, False, False, False,\n",
              "                    False, False, False, False, False, False, False, False,\n",
              "                    False, False],\n",
              "        fill_value='?',\n",
              "             dtype=object),\n",
              " 'param_gamma': masked_array(data=['scale', 'scale', 'scale', 'auto', 'auto', 'auto',\n",
              "                    'scale', 'scale', 'scale', 'auto', 'auto', 'auto',\n",
              "                    'scale', 'scale', 'scale', 'auto', 'auto', 'auto',\n",
              "                    'scale', 'scale', 'scale', 'auto', 'auto', 'auto',\n",
              "                    'scale', 'scale', 'scale', 'auto', 'auto', 'auto',\n",
              "                    'scale', 'scale', 'scale', 'auto', 'auto', 'auto',\n",
              "                    'scale', 'scale', 'scale', 'auto', 'auto', 'auto'],\n",
              "              mask=[False, False, False, False, False, False, False, False,\n",
              "                    False, False, False, False, False, False, False, False,\n",
              "                    False, False, False, False, False, False, False, False,\n",
              "                    False, False, False, False, False, False, False, False,\n",
              "                    False, False, False, False, False, False, False, False,\n",
              "                    False, False],\n",
              "        fill_value='?',\n",
              "             dtype=object),\n",
              " 'param_kernel': masked_array(data=['linear', 'poly', 'rbf', 'linear', 'poly', 'rbf',\n",
              "                    'linear', 'poly', 'rbf', 'linear', 'poly', 'rbf',\n",
              "                    'linear', 'poly', 'rbf', 'linear', 'poly', 'rbf',\n",
              "                    'linear', 'poly', 'rbf', 'linear', 'poly', 'rbf',\n",
              "                    'linear', 'poly', 'rbf', 'linear', 'poly', 'rbf',\n",
              "                    'linear', 'poly', 'rbf', 'linear', 'poly', 'rbf',\n",
              "                    'linear', 'poly', 'rbf', 'linear', 'poly', 'rbf'],\n",
              "              mask=[False, False, False, False, False, False, False, False,\n",
              "                    False, False, False, False, False, False, False, False,\n",
              "                    False, False, False, False, False, False, False, False,\n",
              "                    False, False, False, False, False, False, False, False,\n",
              "                    False, False, False, False, False, False, False, False,\n",
              "                    False, False],\n",
              "        fill_value='?',\n",
              "             dtype=object),\n",
              " 'params': [{'C': 0.1, 'gamma': 'scale', 'kernel': 'linear'},\n",
              "  {'C': 0.1, 'gamma': 'scale', 'kernel': 'poly'},\n",
              "  {'C': 0.1, 'gamma': 'scale', 'kernel': 'rbf'},\n",
              "  {'C': 0.1, 'gamma': 'auto', 'kernel': 'linear'},\n",
              "  {'C': 0.1, 'gamma': 'auto', 'kernel': 'poly'},\n",
              "  {'C': 0.1, 'gamma': 'auto', 'kernel': 'rbf'},\n",
              "  {'C': 5, 'gamma': 'scale', 'kernel': 'linear'},\n",
              "  {'C': 5, 'gamma': 'scale', 'kernel': 'poly'},\n",
              "  {'C': 5, 'gamma': 'scale', 'kernel': 'rbf'},\n",
              "  {'C': 5, 'gamma': 'auto', 'kernel': 'linear'},\n",
              "  {'C': 5, 'gamma': 'auto', 'kernel': 'poly'},\n",
              "  {'C': 5, 'gamma': 'auto', 'kernel': 'rbf'},\n",
              "  {'C': 10, 'gamma': 'scale', 'kernel': 'linear'},\n",
              "  {'C': 10, 'gamma': 'scale', 'kernel': 'poly'},\n",
              "  {'C': 10, 'gamma': 'scale', 'kernel': 'rbf'},\n",
              "  {'C': 10, 'gamma': 'auto', 'kernel': 'linear'},\n",
              "  {'C': 10, 'gamma': 'auto', 'kernel': 'poly'},\n",
              "  {'C': 10, 'gamma': 'auto', 'kernel': 'rbf'},\n",
              "  {'C': 25.5, 'gamma': 'scale', 'kernel': 'linear'},\n",
              "  {'C': 25.5, 'gamma': 'scale', 'kernel': 'poly'},\n",
              "  {'C': 25.5, 'gamma': 'scale', 'kernel': 'rbf'},\n",
              "  {'C': 25.5, 'gamma': 'auto', 'kernel': 'linear'},\n",
              "  {'C': 25.5, 'gamma': 'auto', 'kernel': 'poly'},\n",
              "  {'C': 25.5, 'gamma': 'auto', 'kernel': 'rbf'},\n",
              "  {'C': 50, 'gamma': 'scale', 'kernel': 'linear'},\n",
              "  {'C': 50, 'gamma': 'scale', 'kernel': 'poly'},\n",
              "  {'C': 50, 'gamma': 'scale', 'kernel': 'rbf'},\n",
              "  {'C': 50, 'gamma': 'auto', 'kernel': 'linear'},\n",
              "  {'C': 50, 'gamma': 'auto', 'kernel': 'poly'},\n",
              "  {'C': 50, 'gamma': 'auto', 'kernel': 'rbf'},\n",
              "  {'C': 80, 'gamma': 'scale', 'kernel': 'linear'},\n",
              "  {'C': 80, 'gamma': 'scale', 'kernel': 'poly'},\n",
              "  {'C': 80, 'gamma': 'scale', 'kernel': 'rbf'},\n",
              "  {'C': 80, 'gamma': 'auto', 'kernel': 'linear'},\n",
              "  {'C': 80, 'gamma': 'auto', 'kernel': 'poly'},\n",
              "  {'C': 80, 'gamma': 'auto', 'kernel': 'rbf'},\n",
              "  {'C': 100, 'gamma': 'scale', 'kernel': 'linear'},\n",
              "  {'C': 100, 'gamma': 'scale', 'kernel': 'poly'},\n",
              "  {'C': 100, 'gamma': 'scale', 'kernel': 'rbf'},\n",
              "  {'C': 100, 'gamma': 'auto', 'kernel': 'linear'},\n",
              "  {'C': 100, 'gamma': 'auto', 'kernel': 'poly'},\n",
              "  {'C': 100, 'gamma': 'auto', 'kernel': 'rbf'}],\n",
              " 'split0_test_score': array([-0.07905998, -0.07760065, -0.07550676, -0.07905998, -0.0778914 ,\n",
              "        -0.07538593, -0.07857941, -0.07336548, -0.09557944, -0.07857941,\n",
              "        -0.07331355, -0.09555248, -0.07900881, -0.07330951, -0.15004925,\n",
              "        -0.07900881, -0.07331675, -0.14883427, -0.07911367, -0.07269509,\n",
              "        -0.32255834, -0.07911367, -0.0736432 , -0.32213312, -0.078443  ,\n",
              "        -0.0727587 , -0.44331604, -0.078443  , -0.07232486, -0.44335378,\n",
              "        -0.07855739, -0.07267031, -0.53211084, -0.07855739, -0.07320975,\n",
              "        -0.53107115, -0.07788147, -0.07310787, -0.61046005, -0.07788147,\n",
              "        -0.0729214 , -0.60759119]),\n",
              " 'split1_test_score': array([-0.0578221 , -0.04112236, -0.05704873, -0.0578221 , -0.04125432,\n",
              "        -0.05680086, -0.0585299 , -0.03287165, -0.06751569, -0.0585299 ,\n",
              "        -0.03212269, -0.06692715, -0.05771828, -0.03313983, -0.10042215,\n",
              "        -0.05771828, -0.03334249, -0.1014731 , -0.05786066, -0.03225857,\n",
              "        -0.2211722 , -0.05786066, -0.03227329, -0.2211646 , -0.0578974 ,\n",
              "        -0.03212378, -0.35553307, -0.0578974 , -0.03251896, -0.35606123,\n",
              "        -0.05771401, -0.03260713, -0.50238119, -0.05771401, -0.03274068,\n",
              "        -0.5022615 , -0.05820162, -0.0320618 , -0.54454197, -0.05820162,\n",
              "        -0.03337532, -0.5444336 ]),\n",
              " 'split2_test_score': array([-0.07328561, -0.05761914, -0.0714316 , -0.07328561, -0.05785104,\n",
              "        -0.0717857 , -0.07233032, -0.06045868, -0.18814074, -0.07233032,\n",
              "        -0.06097315, -0.18930551, -0.07277846, -0.0603719 , -0.26013895,\n",
              "        -0.07277846, -0.06064776, -0.2604944 , -0.07272083, -0.06005365,\n",
              "        -0.35538098, -0.07272083, -0.05952213, -0.35579628, -0.07234562,\n",
              "        -0.05953107, -0.45369861, -0.07234562, -0.05984431, -0.45367787,\n",
              "        -0.07224762, -0.05963619, -0.52584016, -0.07224762, -0.06044785,\n",
              "        -0.52574936, -0.07168031, -0.05923361, -0.53958986, -0.07168031,\n",
              "        -0.06058634, -0.53928606]),\n",
              " 'split3_test_score': array([-0.03949404, -0.02178033, -0.03812914, -0.03949404, -0.02177691,\n",
              "        -0.03802008, -0.03898064, -0.00904695, -0.05860057, -0.03898064,\n",
              "        -0.00923457, -0.05921402, -0.0393946 , -0.0084571 , -0.09796781,\n",
              "        -0.0393946 , -0.00732911, -0.09862651, -0.03941192, -0.00727911,\n",
              "        -0.23745423, -0.03941192, -0.00913793, -0.24050021, -0.03874059,\n",
              "        -0.00766269, -0.34433442, -0.03874059, -0.0080435 , -0.34711778,\n",
              "        -0.03885971, -0.0073514 , -0.47710292, -0.03885971, -0.00544878,\n",
              "        -0.479909  , -0.03872389, -0.0075096 , -0.56940636, -0.03872389,\n",
              "        -0.00921262, -0.57299728]),\n",
              " 'split4_test_score': array([-0.02594171, -0.02521276, -0.0212357 , -0.02594171, -0.02512161,\n",
              "        -0.02161271, -0.02586455, -0.02515056, -0.04790332, -0.02586455,\n",
              "        -0.02506229, -0.04708704, -0.02645083, -0.02528433, -0.13978781,\n",
              "        -0.02645083, -0.02532894, -0.13884533, -0.02610819, -0.02561206,\n",
              "        -0.24696393, -0.02610819, -0.02520552, -0.24600182, -0.02604316,\n",
              "        -0.02560838, -0.33795537, -0.02604316, -0.02530254, -0.33736528,\n",
              "        -0.02581664, -0.02549775, -0.39245569, -0.02581664, -0.0248195 ,\n",
              "        -0.39185661, -0.02581782, -0.02527261, -0.41673669, -0.02581782,\n",
              "        -0.02498447, -0.4164266 ]),\n",
              " 'mean_test_score': array([-0.05512069, -0.04466705, -0.05267039, -0.05512069, -0.04477906,\n",
              "        -0.05272106, -0.05485697, -0.04017866, -0.09154795, -0.05485697,\n",
              "        -0.04014125, -0.09161724, -0.0550702 , -0.04011253, -0.14967319,\n",
              "        -0.0550702 , -0.03999301, -0.14965472, -0.05504306, -0.03957969,\n",
              "        -0.27670593, -0.05504306, -0.03995641, -0.27711921, -0.05469395,\n",
              "        -0.03953692, -0.3869675 , -0.05469395, -0.03960684, -0.38751519,\n",
              "        -0.05463907, -0.03955256, -0.48597816, -0.05463907, -0.03933331,\n",
              "        -0.48616952, -0.05446102, -0.0394371 , -0.53614699, -0.05446102,\n",
              "        -0.04021603, -0.53614695]),\n",
              " 'std_test_score': array([0.02002976, 0.02081929, 0.020456  , 0.02002976, 0.02095348,\n",
              "        0.02038455, 0.01987049, 0.02349921, 0.05082195, 0.01987049,\n",
              "        0.02358502, 0.05138286, 0.01979113, 0.02359255, 0.05899094,\n",
              "        0.01979113, 0.02393025, 0.05886985, 0.01990676, 0.0236974 ,\n",
              "        0.05253853, 0.01990676, 0.02342655, 0.05226183, 0.01980524,\n",
              "        0.02353031, 0.05066772, 0.01980524, 0.02337143, 0.05026284,\n",
              "        0.0198561 , 0.02359165, 0.05061914, 0.0198561 , 0.02447738,\n",
              "        0.05054857, 0.01963214, 0.02366438, 0.06476074, 0.01963214,\n",
              "        0.02334351, 0.06461225]),\n",
              " 'rank_test_score': array([29, 13, 15, 29, 14, 16, 23, 11, 31, 23, 10, 32, 27,  9, 34, 27,  8,\n",
              "        33, 25,  5, 35, 25,  7, 36, 21,  3, 37, 21,  6, 38, 19,  4, 39, 19,\n",
              "         1, 40, 17,  2, 42, 17, 12, 41], dtype=int32)}"
            ]
          },
          "metadata": {},
          "execution_count": 142
        }
      ],
      "source": [
        "G_S.cv_results_"
      ]
    },
    {
      "cell_type": "code",
      "execution_count": 143,
      "metadata": {
        "id": "dcAQFrBf6RMT",
        "colab": {
          "base_uri": "https://localhost:8080/"
        },
        "outputId": "7b103626-cae2-4a6a-acb2-4f332d3514a7"
      },
      "outputs": [
        {
          "output_type": "execute_result",
          "data": {
            "text/plain": [
              "{'C': 80, 'gamma': 'auto', 'kernel': 'poly'}"
            ]
          },
          "metadata": {},
          "execution_count": 143
        }
      ],
      "source": [
        "G_S.best_params_"
      ]
    },
    {
      "cell_type": "code",
      "execution_count": 144,
      "metadata": {
        "id": "wFlTwXau6Uaq",
        "colab": {
          "base_uri": "https://localhost:8080/"
        },
        "outputId": "6a939554-f4fc-48b4-a898-7222a269c577"
      },
      "outputs": [
        {
          "output_type": "execute_result",
          "data": {
            "text/plain": [
              "-0.039333313522478666"
            ]
          },
          "metadata": {},
          "execution_count": 144
        }
      ],
      "source": [
        "G_S.best_score_"
      ]
    },
    {
      "cell_type": "markdown",
      "source": [
        "# **Regresión logística**"
      ],
      "metadata": {
        "id": "stgXs4lc-R0A"
      }
    },
    {
      "cell_type": "code",
      "source": [
        "grid = { \n",
        "   # 'penalty': [\"l2\",\"none\"],\n",
        "    'C' : np.arange(0.001,0.03,0.001),\n",
        "    #'solver' : [\"newton-cg\", \"lbfgs\", \"sag\", \"saga\"],\n",
        "}\n",
        "\n",
        "\n",
        "G_S = GridSearchCV(estimator= LogisticRegression(), param_grid=grid, cv= 5)\n",
        "G_S.fit(X_train, y_train)"
      ],
      "metadata": {
        "colab": {
          "base_uri": "https://localhost:8080/"
        },
        "id": "urtUJXu3-RJt",
        "outputId": "b51de860-7c29-45c4-e26e-8e05a80b9972"
      },
      "execution_count": 138,
      "outputs": [
        {
          "output_type": "execute_result",
          "data": {
            "text/plain": [
              "GridSearchCV(cv=5, estimator=LogisticRegression(),\n",
              "             param_grid={'C': array([0.001, 0.002, 0.003, 0.004, 0.005, 0.006, 0.007, 0.008, 0.009,\n",
              "       0.01 , 0.011, 0.012, 0.013, 0.014, 0.015, 0.016, 0.017, 0.018,\n",
              "       0.019, 0.02 , 0.021, 0.022, 0.023, 0.024, 0.025, 0.026, 0.027,\n",
              "       0.028, 0.029])})"
            ]
          },
          "metadata": {},
          "execution_count": 138
        }
      ]
    },
    {
      "cell_type": "code",
      "source": [
        "GS.best_params_"
      ],
      "metadata": {
        "colab": {
          "base_uri": "https://localhost:8080/"
        },
        "id": "5_5TLF75-eu9",
        "outputId": "a3a98d57-6341-49b4-d48e-a3cf9e1ed895"
      },
      "execution_count": 139,
      "outputs": [
        {
          "output_type": "execute_result",
          "data": {
            "text/plain": [
              "{'C': 0.001}"
            ]
          },
          "metadata": {},
          "execution_count": 139
        }
      ]
    },
    {
      "cell_type": "code",
      "source": [
        "GS.best_score_"
      ],
      "metadata": {
        "colab": {
          "base_uri": "https://localhost:8080/"
        },
        "id": "n0XhqJauSHEy",
        "outputId": "d62006d0-79ee-444b-b1c4-ff2ebccda9a3"
      },
      "execution_count": 140,
      "outputs": [
        {
          "output_type": "execute_result",
          "data": {
            "text/plain": [
              "0.9543319228896963"
            ]
          },
          "metadata": {},
          "execution_count": 140
        }
      ]
    },
    {
      "cell_type": "markdown",
      "source": [
        "# **KNN**"
      ],
      "metadata": {
        "id": "I7y80MIDQ3Fj"
      }
    },
    {
      "cell_type": "code",
      "source": [
        "from sklearn.neighbors import KNeighborsRegressor\n",
        "pg=[{'n_neighbors':[1,5,10,15,20,25,50,75,100],'algorithm':[\"auto\",\"ball_tree\",\"kd_tree\",\"brute\"],'weights':[\"uniform\",\"distance\"]}]\n",
        "G_S=GridSearchCV(estimator=KNeighborsRegressor(),param_grid=pg, scoring=\"r2\")\n",
        "G_S.fit(X_train,y_train)\n"
      ],
      "metadata": {
        "colab": {
          "base_uri": "https://localhost:8080/"
        },
        "id": "D7Dw2r4EQ6pT",
        "outputId": "852b64b2-a430-45cc-ebdf-238ad19d0f5d"
      },
      "execution_count": 135,
      "outputs": [
        {
          "output_type": "execute_result",
          "data": {
            "text/plain": [
              "GridSearchCV(estimator=KNeighborsRegressor(),\n",
              "             param_grid=[{'algorithm': ['auto', 'ball_tree', 'kd_tree',\n",
              "                                        'brute'],\n",
              "                          'n_neighbors': [1, 5, 10, 15, 20, 25, 50, 75, 100],\n",
              "                          'weights': ['uniform', 'distance']}],\n",
              "             scoring='r2')"
            ]
          },
          "metadata": {},
          "execution_count": 135
        }
      ]
    },
    {
      "cell_type": "code",
      "source": [
        "G_S.best_params_"
      ],
      "metadata": {
        "colab": {
          "base_uri": "https://localhost:8080/"
        },
        "id": "evX5J9lNSJWV",
        "outputId": "0b38c67e-1c35-4229-b073-f4b74312a0cb"
      },
      "execution_count": 136,
      "outputs": [
        {
          "output_type": "execute_result",
          "data": {
            "text/plain": [
              "{'algorithm': 'auto', 'n_neighbors': 100, 'weights': 'uniform'}"
            ]
          },
          "metadata": {},
          "execution_count": 136
        }
      ]
    },
    {
      "cell_type": "code",
      "source": [
        "G_S.best_score_"
      ],
      "metadata": {
        "colab": {
          "base_uri": "https://localhost:8080/"
        },
        "id": "luWnVWnTSTVq",
        "outputId": "3449565a-7e0a-4ff2-fd1c-77bf1563bed1"
      },
      "execution_count": 137,
      "outputs": [
        {
          "output_type": "execute_result",
          "data": {
            "text/plain": [
              "0.06637700209246303"
            ]
          },
          "metadata": {},
          "execution_count": 137
        }
      ]
    }
  ],
  "metadata": {
    "colab": {
      "provenance": []
    },
    "kernelspec": {
      "display_name": "Python 3",
      "name": "python3"
    },
    "language_info": {
      "name": "python"
    }
  },
  "nbformat": 4,
  "nbformat_minor": 0
}